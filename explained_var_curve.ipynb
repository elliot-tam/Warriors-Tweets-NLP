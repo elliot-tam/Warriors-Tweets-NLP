{
 "cells": [
  {
   "cell_type": "markdown",
   "metadata": {},
   "source": [
    "# explained variance curve"
   ]
  },
  {
   "cell_type": "code",
   "execution_count": 1,
   "metadata": {},
   "outputs": [],
   "source": [
    "import os\n",
    "import pandas as pd\n",
    "import json\n",
    "from glob import glob\n",
    "import string\n",
    "import datetime as dt\n",
    "\n",
    "import nltk\n",
    "from nltk.tokenize import word_tokenize\n",
    "import re\n",
    "from sklearn.feature_extraction.text import CountVectorizer "
   ]
  },
  {
   "cell_type": "code",
   "execution_count": 29,
   "metadata": {},
   "outputs": [],
   "source": [
    "from sklearn import decomposition, datasets, model_selection, preprocessing, metrics\n",
    "import numpy as np\n",
    "import matplotlib.pyplot as plt"
   ]
  },
  {
   "cell_type": "code",
   "execution_count": 2,
   "metadata": {},
   "outputs": [],
   "source": [
    "tweet_df = pd.DataFrame(columns = ['date', 'text', 'hashtags'])\n",
    "for file in glob('data2/*.json'):\n",
    "    with open(file) as f:\n",
    "        file_data = json.load(f)\n",
    "        df = pd.DataFrame(data=file_data)\n",
    "        tweet_df = pd.concat([tweet_df, df], sort=False, ignore_index=True)"
   ]
  },
  {
   "cell_type": "code",
   "execution_count": 3,
   "metadata": {},
   "outputs": [],
   "source": [
    "tweet_df['text'] = tweet_df['text'].apply(lambda x: x.replace('\\n', ' '))\n",
    "tweet_df['text'] = tweet_df['text'].apply(lambda x: x.replace('RT', ' '))\n",
    "tweet_df['text'] = tweet_df['text'].map(lambda x: re.sub(r'\\bhttps\\S*\\b', '', x))\n",
    "tweet_df['text'] = tweet_df['text'].map(lambda x: re.sub(r'\\bpic\\S*\\b', '', x))\n",
    "tweet_df['text'] = tweet_df['text'].map(lambda x: re.sub(r'\\b@\\S*\\b', '', x))\n",
    "tweet_df['text'] = tweet_df['text'].map(lambda x: re.sub(r'[^A-Za-z ]+', '', x))\n",
    "tweet_df['text'] = tweet_df['text'].map(lambda x: x.lower())\n",
    "tweet_df = tweet_df.drop_duplicates(subset= ['text'])"
   ]
  },
  {
   "cell_type": "code",
   "execution_count": 4,
   "metadata": {},
   "outputs": [],
   "source": [
    "from nltk.stem import WordNetLemmatizer\n",
    "lemmatizer = WordNetLemmatizer()\n",
    "lemma_text = lambda x: ' '.join([lemmatizer.lemmatize(word) for word in x.split()])\n",
    "tweet_df['text'] = tweet_df['text'].apply(lemma_text)\n"
   ]
  },
  {
   "cell_type": "code",
   "execution_count": 5,
   "metadata": {},
   "outputs": [],
   "source": [
    "stop_words = set(nltk.corpus.stopwords.words('english'))\n",
    "\n",
    "stop_words = stop_words.union(set(['en', 'que', 'para', 'por', 'le', 'de', 'con', 'wa', 'ha', 'im', 'da', 'na'\n",
    "                                   'un', 'se', 'el', 'su', 'una', 'del', 'al', 'lo', 'la', \n",
    "                                   'los', 'th', 'ahora', 'menos', 'dubnation', 'menofcolor', \n",
    "                                   'menofinstagram', 'menoninstagram', 'melanin', 'beardgang', 'national', 'basketball', 'association',\n",
    "                                   'nba', 'let', 'go', 'dub']))"
   ]
  },
  {
   "cell_type": "code",
   "execution_count": 6,
   "metadata": {},
   "outputs": [],
   "source": [
    "cv_nmf = CountVectorizer(stop_words=stop_words, ngram_range=(2,3), min_df = 10, max_df = 0.85)\n",
    "vectorized_nmf = cv_nmf.fit_transform(tweet_df['text'])"
   ]
  },
  {
   "cell_type": "code",
   "execution_count": 9,
   "metadata": {},
   "outputs": [],
   "source": [
    "def get_score(model, data, scorer=metrics.explained_variance_score):\n",
    "    \"\"\" Estimate performance of the model on the data \"\"\"\n",
    "    prediction = model.inverse_transform(model.transform(data))\n",
    "    return scorer(data, prediction)"
   ]
  },
  {
   "cell_type": "code",
   "execution_count": 23,
   "metadata": {},
   "outputs": [],
   "source": [
    "vectorized_nmf = vectorized_nmf.toarray()"
   ]
  },
  {
   "cell_type": "code",
   "execution_count": 24,
   "metadata": {},
   "outputs": [],
   "source": [
    "X_train, X_test = model_selection.train_test_split(vectorized_nmf, test_size=0.5, random_state=1)\n",
    "# I scale the data in order to give equal importance to all its dimensions\n",
    "# NMF does not allow negative input, so I don't center the data\n",
    "scaler = preprocessing.StandardScaler(with_mean=False).fit(X_train)\n",
    "X_train_sc = scaler.transform(X_train)\n",
    "X_test_sc = scaler.transform(X_test)\n",
    "# train the both decomposers\n",
    "nmf = decomposition.NMF(n_components=2).fit(X_train_sc)"
   ]
  },
  {
   "cell_type": "code",
   "execution_count": 26,
   "metadata": {},
   "outputs": [
    {
     "name": "stdout",
     "output_type": "stream",
     "text": [
      "[0.005812036904422133, 0.010420275825870124, 0.014969615254290395, 0.019103795442632396, 0.023051418539017432, 0.02656850041451754, 0.029996094064694532, 0.03337152576825337, 0.03660075834567681, 0.039647392186214554]\n",
      "[0.00542489495452989, 0.009930551653478874, 0.014489433826137795, 0.018073444592168676, 0.022124411564609685, 0.024211052972932984, 0.02733297021973332, 0.029771052561581798, 0.033037286533394467, 0.03597986480444934]\n"
     ]
    }
   ],
   "source": [
    "ks = [i+1 for i in range(10)]\n",
    "perfs_train = []\n",
    "perfs_test = []\n",
    "for k in ks:\n",
    "    nmf = decomposition.NMF(n_components=k).fit(X_train_sc)\n",
    "    perfs_train.append(get_score(nmf, X_train_sc))\n",
    "    perfs_test.append(get_score(nmf, X_test_sc))\n",
    "print(perfs_train)\n",
    "print(perfs_test)"
   ]
  },
  {
   "cell_type": "code",
   "execution_count": 30,
   "metadata": {},
   "outputs": [
    {
     "data": {
      "image/png": "[encoded data removed]",
      "text/plain": [
       "<Figure size 480x320 with 1 Axes>"
      ]
     },
     "metadata": {
      "needs_background": "light"
     },
     "output_type": "display_data"
    }
   ],
   "source": [
    "plt.figure(dpi=80)\n",
    "plt.plot(perfs_train, perfs_test)\n",
    "plt.xlabel(\"Train Score\")\n",
    "plt.ylabel(\"Test Score\")\n",
    "plt.title(\"Explained Variance Curve\");\n",
    "#plt.savefig('precision recall curve', transparent = True)"
   ]
  },
  {
   "cell_type": "code",
   "execution_count": null,
   "metadata": {},
   "outputs": [],
   "source": []
  }
 ],
 "metadata": {
  "kernelspec": {
   "display_name": "Python [conda env:metis] *",
   "language": "python",
   "name": "conda-env-metis-py"
  },
  "language_info": {
   "codemirror_mode": {
    "name": "ipython",
    "version": 3
   },
   "file_extension": ".py",
   "mimetype": "text/x-python",
   "name": "python",
   "nbconvert_exporter": "python",
   "pygments_lexer": "ipython3",
   "version": "3.7.4"
  }
 },
 "nbformat": 4,
 "nbformat_minor": 4
}
